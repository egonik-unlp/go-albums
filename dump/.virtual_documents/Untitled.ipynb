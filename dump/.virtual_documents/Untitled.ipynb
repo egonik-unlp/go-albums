from PIL import Image
import os
import numpy as np


images = [Image.open(image) for image in os.listdir(".") if image.endswith(".jpg")]
resized_images = [image.resize((128,128)) for image in images]
dimensions = (1920, 1080)
new_image = Image.new('RGB', dimensions)
stride = 128
position = (0,0)
cntr = 0
for image in resized_images:
    new_image.paste(image, box = position)
    position = new_position(position, stride, dimensions)
    if (position[1] >= (dimensions[1] - stride )) and (position[0] >= (dimensions[0] - stride)):
        break
    



def new_position(position, stride, dimensions):
    position = (position[0] + stride, position[1])
    if position[0] < dimensions[0] and position[1] < dimensions[1]:
        return position
    else:
        np = (-stride, position[1] + stride)
        return new_position(np, stride, dimensions)
        


new_image.save("final.png")
