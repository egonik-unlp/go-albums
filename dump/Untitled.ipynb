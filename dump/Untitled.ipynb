{
 "cells": [
  {
   "cell_type": "code",
   "execution_count": 2,
   "id": "bbcf5c84-5da1-43d1-a0d9-12aa6d7dbca6",
   "metadata": {},
   "outputs": [],
   "source": [
    "from PIL import Image\n",
    "import os\n",
    "import numpy as np"
   ]
  },
  {
   "cell_type": "code",
   "execution_count": 65,
   "id": "3288f6c7-f510-4e18-83ec-fb25bf52d6b8",
   "metadata": {},
   "outputs": [],
   "source": [
    "images = [Image.open(image) for image in os.listdir(\".\") if image.endswith(\".jpg\")]\n",
    "resized_images = [image.resize((128,128)) for image in images]\n",
    "dimensions = (1920, 1080)\n",
    "new_image = Image.new('RGB', dimensions)\n",
    "stride = 128\n",
    "position = (0,0)\n",
    "cntr = 0\n",
    "for image in resized_images:\n",
    "    new_image.paste(image, box = position)\n",
    "    position = new_position(position, stride, dimensions)\n",
    "    if (position[1] >= (dimensions[1] - stride )) and (position[0] >= (dimensions[0] - stride)):\n",
    "        break\n",
    "    \n"
   ]
  },
  {
   "cell_type": "code",
   "execution_count": 64,
   "id": "ce325814-2199-4b93-8e9a-05c6bd675ea3",
   "metadata": {},
   "outputs": [],
   "source": [
    "def new_position(position, stride, dimensions):\n",
    "    position = (position[0] + stride, position[1])\n",
    "    if position[0] < dimensions[0] and position[1] < dimensions[1]:\n",
    "        return position\n",
    "    else:\n",
    "        np = (-stride, position[1] + stride)\n",
    "        return new_position(np, stride, dimensions)\n",
    "        "
   ]
  },
  {
   "cell_type": "code",
   "execution_count": 66,
   "id": "b884f1fe-8efb-4785-8038-bc514856c82e",
   "metadata": {},
   "outputs": [],
   "source": [
    "new_image.save(\"final.png\")"
   ]
  }
 ],
 "metadata": {
  "kernelspec": {
   "display_name": "Python 3 (ipykernel)",
   "language": "python",
   "name": "python3"
  },
  "language_info": {
   "codemirror_mode": {
    "name": "ipython",
    "version": 3
   },
   "file_extension": ".py",
   "mimetype": "text/x-python",
   "name": "python",
   "nbconvert_exporter": "python",
   "pygments_lexer": "ipython3",
   "version": "3.11.7"
  }
 },
 "nbformat": 4,
 "nbformat_minor": 5
}
