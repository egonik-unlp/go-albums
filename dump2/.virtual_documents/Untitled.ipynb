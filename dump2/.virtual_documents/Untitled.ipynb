from PIL import Image, ImageFile
import os
import numpy as np
ImageFile.LOAD_TRUNCATED_IMAGES = True



def new_position(position, stride, dimensions):
    position = (position[0] + stride, position[1])
    if position[0] < dimensions[0] and position[1] < dimensions[1]:
        return position
    else:
        np = (-stride, position[1] + stride)
        return new_position(np, stride, dimensions)
        


def mcd(num_a, num_b):
    mcd = 0
    for i in range(1, min(num_a, num_b) + 1):
        if (num_a % i == 0) and (num_b % i == 0):
            # print(f"i = {i } = nai {num_a % i }, nbi = {num_b % i } ") 
            mcd = i
    return mcd


stride


sortdata[0].split("->")[0].strip()


f"albumArt_{album.split("->")[0].strip()"


with open("../dump_albumes_all.txt") as file:
    sortdata = file.readlines()
    sortdata.reverse()
    sortdata = {f'albumArt_{album.split("->")[0].strip()}': n for n, album in enumerate(sortdata)}



dimensions = (1920, 1080)
stride = mcd(*dimensions)
stride = 120
images = [Image.open(image) for image in os.listdir(".") if image.endswith(".jpg")]
resized_images = [image.resize((stride,stride)) for image in images]

new_image = Image.new('RGB', dimensions)
position = (0,0)
cntr = 0
for image in resized_images:
    new_image.paste(image, box = position)
    position = new_position(position, stride, dimensions)
    if (position[1] >= (dimensions[1] - stride )) and (position[0] >= (dimensions[0] - stride)):
        break
    
new_image.save("final_2.png")
