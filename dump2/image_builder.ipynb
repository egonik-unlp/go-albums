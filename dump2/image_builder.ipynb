{
 "cells": [
  {
   "cell_type": "code",
   "execution_count": 2,
   "id": "bbcf5c84-5da1-43d1-a0d9-12aa6d7dbca6",
   "metadata": {},
   "outputs": [],
   "source": [
    "from PIL import Image, ImageFile\n",
    "import os\n",
    "import numpy as np\n",
    "ImageFile.LOAD_TRUNCATED_IMAGES = True\n"
   ]
  },
  {
   "cell_type": "code",
   "execution_count": 3,
   "id": "ce325814-2199-4b93-8e9a-05c6bd675ea3",
   "metadata": {},
   "outputs": [],
   "source": [
    "def new_position(position, stride, dimensions):\n",
    "    position = (position[0] + stride, position[1])\n",
    "    if position[0] < dimensions[0] and position[1] < dimensions[1]:\n",
    "        return position\n",
    "    else:\n",
    "        np = (-stride, position[1] + stride)\n",
    "        return new_position(np, stride, dimensions)\n",
    "        "
   ]
  },
  {
   "cell_type": "code",
   "execution_count": 4,
   "id": "87f1c5ce-a6e0-48bb-a35d-3b956e183f63",
   "metadata": {},
   "outputs": [],
   "source": [
    "def mcd(num_a, num_b):\n",
    "    mcd = 0\n",
    "    for i in range(1, min(num_a, num_b) + 1):\n",
    "        if (num_a % i == 0) and (num_b % i == 0):\n",
    "            # print(f\"i = {i } = nai {num_a % i }, nbi = {num_b % i } \") \n",
    "            mcd = i\n",
    "    return mcd"
   ]
  },
  {
   "cell_type": "code",
   "execution_count": 32,
   "id": "57314dca-51e6-463f-b503-f9402e23bf83",
   "metadata": {},
   "outputs": [],
   "source": [
    "def get_sorted_images(dir, sortdata):\n",
    "    images = [(image,Image.open(image)) for image in os.listdir(dir) if image.endswith(\".jpg\")]\n",
    "    nums = [sortdata[key] for key,value in images]\n",
    "    c_images = [0 for i in range(len(images))]\n",
    "    for (_, image), position in zip(images, nums):\n",
    "        c_images.insert(position,image)\n",
    "    c_images = [image for image in c_images if image != 0]\n",
    "    return [image.resize((stride,stride)) for image in c_images]"
   ]
  },
  {
   "cell_type": "code",
   "execution_count": 13,
   "id": "0c71b089-ed5d-4862-ab5f-868913a215c3",
   "metadata": {},
   "outputs": [],
   "source": [
    "with open(\"../dump_albumes_all.txt\") as file:\n",
    "    sortdata = file.readlines()\n",
    "    sortdata.reverse()\n",
    "    sortdata = {f'albumArt_{album.split(\"->\")[0].strip()}.jpg': n for n, album in enumerate(sortdata)}\n"
   ]
  },
  {
   "cell_type": "code",
   "execution_count": 34,
   "id": "3288f6c7-f510-4e18-83ec-fb25bf52d6b8",
   "metadata": {},
   "outputs": [],
   "source": [
    "dimensions = (1080, 1920)\n",
    "stride = mcd(*dimensions)\n",
    "stride = 120\n",
    "resized_images = get_sorted_images(\".\", sortdata)\n",
    "new_image = Image.new('RGB', dimensions)\n",
    "position = (0,0)\n",
    "cntr = 0\n",
    "for image in resized_images:\n",
    "    new_image.paste(image, box = position)\n",
    "    position = new_position(position, stride, dimensions)\n",
    "    if (position[1] >= (dimensions[1] - stride )) and (position[0] >= (dimensions[0] - stride)):\n",
    "        break\n",
    "    \n",
    "new_image.save(\"final_2_phone.png\")"
   ]
  }
 ],
 "metadata": {
  "kernelspec": {
   "display_name": "Python 3 (ipykernel)",
   "language": "python",
   "name": "python3"
  },
  "language_info": {
   "codemirror_mode": {
    "name": "ipython",
    "version": 3
   },
   "file_extension": ".py",
   "mimetype": "text/x-python",
   "name": "python",
   "nbconvert_exporter": "python",
   "pygments_lexer": "ipython3",
   "version": "3.11.7"
  }
 },
 "nbformat": 4,
 "nbformat_minor": 5
}
